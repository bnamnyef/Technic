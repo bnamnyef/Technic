{
 "cells": [
  {
   "cell_type": "markdown",
   "metadata": {},
   "source": [
    "# usage of Git\n"
   ]
  },
  {
   "cell_type": "markdown",
   "metadata": {},
   "source": [
    "## init\n",
    "\n",
    "``` sh\n",
    "git config --global user.name \"username\"\n",
    "git config --global user.email \"user@email\"\n",
    "```\n",
    "\n",
    "use these twoo command to set the Identity information"
   ]
  },
  {
   "cell_type": "markdown",
   "metadata": {},
   "source": [
    "## .gitignore\n",
    "\n",
    "The `.gitignore` file in Git is used to specify which files and directories should be ignored when committing changes. It’s important to note that this only applies to untracked files.\n",
    "\n",
    "Untracked files are those that are in the project’s directory but have not yet been added to the project’s Git repository with the git add command. Once a file is added to the repository, it becomes a tracked file and will not be ignored by Git even if it’s listed in the `.gitignore` file.\n",
    "\n",
    "If you want to ignore a file that is already tracked by Git, you’ll need to first remove it from the repository with the `git rm --cached <file>` command. After doing this, the file will become untracked and will be ignored if it’s listed in the .gitignore file.\n",
    "\n",
    "Remember, it’s always a good practice to set up your `.gitignore` file before making your first commit to avoid including unnecessary files in your repository.\n",
    "\n",
    "\n",
    "Git中的`.gitignore` '文件用于指定在提交更改时应该忽略哪些文件和目录。重要的是要注意，这只适用于未跟踪的文件。\n",
    "\n",
    "未跟踪文件是指那些位于项目目录中，但尚未使用`Git add`命令添加到项目Git存储库中的文件。一旦文件被添加到存储库中，它就会成为一个跟踪文件，即使它被列在`.gitignore`文件中，也不会被Git忽略。\n",
    "\n",
    "如果您想忽略Git已经跟踪的文件，您需要首先使用`git rm --cached <file>`命令将其从存储库中删除。这样做之后，该文件将变得不被跟踪，如果它在.gitignore文件中列出，则将被忽略。\n",
    "\n",
    "请记住，在第一次提交之前设置`.gitignore`文件总是一个好的做法，以避免在存储库中包含不必要的文件。\n",
    "\n",
    "```sh\n",
    "git rm -r --cached .\n",
    "git add .\n",
    "git commit -m \"Untrack files in .gitignore\"\n",
    "```\n",
    "\n",
    "> - `git`: This is the command-line interface for Git, a distributed version control system. It allows you to manage and keep track of your source code history.\n",
    "> \n",
    "> - `rm`: This is a subcommand of `git`. It stands for \"remove\". This command is used to remove files from the staging area and working directory for Git.\n",
    "> \n",
    "> - `-r`: This is an option for the `rm` command. It stands for \"recursive\", which means the command will operate not only on the target directory but also on its subdirectories.\n",
    "> \n",
    "> - `--cached`: This is another option for the `rm` command. When used, it removes files from the index (staging area for the next commit), but not from the working directory (your local file system).\n",
    "> \n",
    "> - `.`: This represents the current directory. So, this command will affect all files in the current directory and its subdirectories.\n",
    "> \n",
    "> - `add`: This is a subcommand of `git`. It tells Git to include the changes of specified files in the next commit snapshot.\n",
    "> \n",
    "> - `commit`: This is a subcommand of `git`. It captures a snapshot of the project's currently staged changes. Committed snapshots can be thought of as “safe” versions of a project—Git will never change them unless you explicitly ask it to.\n",
    "> \n",
    "> - `-m`: This is an option for the `commit` command. It stands for \"message\", which allows you to include a brief description of the changes made in the commit. \n",
    "> \n",
    "> - `\"Untrack files in .gitignore\"`: This is the commit message that describes the changes made in the commit. It's a good practice to make this message informative and describe what was changed and why.\n",
    "\n",
    "\n",
    "\n",
    "So, in summary, `git rm -r --cached .` is a command that recursively removes all files from the Git index in the current directory and its subdirectories, but leaves the actual files in your local file system untouched. This effectively makes all files \"untracked\" by Git.\n",
    "\n",
    "`git add .` is a command that stages changes from all tracked and untracked files in the current directory and its subdirectories for the next commit. However, it will not add files that are listed in your `.gitignore` file. This is a common way to prepare for a commit in Git.\n",
    "\n",
    "`git commit -m \"Untrack files in .gitignore\"` is a command that creates a new commit with the changes that have been added to the staging area using the `git add` command. The commit message \"Untrack files in .gitignore\" provides context for the changes included in the commit.\n",
    "\n",
    "所以，总的来说，`git rm -r --cached .` 是一个命令，它递归地从当前目录和其子目录的 Git 索引中删除所有文件，但是保留在你的本地文件系统中的实际文件。这有效地使所有文件成为 Git 的“未跟踪”文件。\n",
    "\n",
    "`git add .` 是一个命令，它将当前目录及其子目录中所有已跟踪和未跟踪文件的更改添加到下一次提交的暂存区。然而，它不会添加 `.gitignore` 文件中列出的文件。这是准备提交的常见方式。\n",
    "\n",
    "`git commit -m \"Untrack files in .gitignore\"` 是一个命令，它创建一个新的提交，其中包含使用 `git add` 命令添加到暂存区的更改。提交消息 \"Untrack files in .gitignore\" 为提交中包含的更改提供了上下文。"
   ]
  }
 ],
 "metadata": {
  "language_info": {
   "name": "python"
  }
 },
 "nbformat": 4,
 "nbformat_minor": 2
}
