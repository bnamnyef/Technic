{
 "cells": [
  {
   "cell_type": "markdown",
   "metadata": {},
   "source": [
    "# 从$E$换算$k$"
   ]
  },
  {
   "cell_type": "markdown",
   "metadata": {},
   "source": [
    "接下来要准备给键之间的连接准备参数\n",
    "\n",
    "$m = ρ S L$\n",
    "\n",
    "其中$ρ$为密度, $S$为截面积, $L$为该点上的等效长度, 即所有与这个点相连的骨干的总长度的一般.\n",
    "\n",
    "$k = \\frac{E S}{x}$\n",
    "\n",
    "$k$ 的量纲为 $kg/s^2$ 即 $能量/距离^2$\n",
    "\n",
    "其中$k$为弹簧的劲度系数, $E$为模量, $L_{single}$为单根骨干连接的原长.\n",
    "\n",
    "为此需要准备两个新的有序字典:\n",
    "\n",
    "`dict_ID2m`\n",
    "\n",
    "`dict_lineID2k`\n",
    "\n",
    "需要已知三个参数`ρ`, `S`, `E`"
   ]
  }
 ],
 "metadata": {
  "language_info": {
   "name": "python"
  },
  "orig_nbformat": 4
 },
 "nbformat": 4,
 "nbformat_minor": 2
}
