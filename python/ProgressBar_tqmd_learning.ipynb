{
 "cells": [
  {
   "cell_type": "code",
   "execution_count": null,
   "metadata": {},
   "outputs": [],
   "source": [
    "from tqdm import tqdm\n",
    "import time\n",
    "\n",
    "def my_function(n):\n",
    "    # for i in tqdm(range(n)):\n",
    "    for i in tqdm(range(100), bar_format='{l_bar}{bar}| {n_fmt}/{total_fmt}'):\n",
    "        # Simulate some computation\n",
    "        time.sleep(0.1)\n",
    "\n",
    "my_function(100)\n"
   ]
  },
  {
   "cell_type": "code",
   "execution_count": null,
   "metadata": {},
   "outputs": [],
   "source": [
    "from tqdm.auto import tqdm\n",
    "print('first iteration')\n",
    "for i in tqdm(range(10), bar_format='{desc:<5.5} {percentage:3.0f}%|{bar}| {r_bar}'):\n",
    "    # Your code here\n",
    "    time.sleep(1)\n",
    "    print('2nd iteration')\n",
    "    for i in tqdm(range(100), bar_format='{l_bar}{bar}| {n_fmt}/{total_fmt}'):\n",
    "        # Simulate some computation\n",
    "        time.sleep(0.1)\n"
   ]
  },
  {
   "cell_type": "code",
   "execution_count": null,
   "metadata": {},
   "outputs": [],
   "source": [
    "from tqdm.auto import tqdm\n",
    "print('first iteration')\n",
    "for i in tqdm(range(10), bar_format='{desc:<5.5} {percentage:3.0f}%|{bar}| {r_bar}'):\n",
    "    # Your code here\n",
    "    time.sleep(1)\n",
    "    print('2nd iteration')\n",
    "    for i in tqdm(range(100), bar_format='{l_bar}{bar}| {n_fmt}/{total_fmt}'):\n",
    "        # Simulate some computation\n",
    "        time.sleep(0.1)\n"
   ]
  },
  {
   "cell_type": "code",
   "execution_count": null,
   "metadata": {},
   "outputs": [],
   "source": [
    "from tqdm.notebook import tqdm\n",
    "import time\n",
    "\n",
    "print('first iteration')\n",
    "for i in tqdm(range(10), desc=\"1st iter\", bar_format='{desc:<5.5} {percentage:3.0f}%|{bar}| {r_bar}'):\n",
    "    time.sleep(1)\n",
    "    print('2nd iteration')\n",
    "    for j in tqdm(range(100), desc=\"2nd iter\", leave=False, bar_format='{l_bar}{bar}| {n_fmt}/{total_fmt}'):\n",
    "        time.sleep(0.1)\n"
   ]
  },
  {
   "cell_type": "code",
   "execution_count": null,
   "metadata": {},
   "outputs": [],
   "source": [
    "from tqdm.notebook import tqdm\n",
    "import time\n",
    "\n",
    "# print('first iteration')\n",
    "pbar1 = tqdm(total=10, bar_format='{desc:<5.5} {percentage:3.0f}%|{bar}| {r_bar}')\n",
    "for i in range(10):\n",
    "    pbar1.set_description(f\"1st iter {i+1}\")\n",
    "    pbar1.update()\n",
    "    pbar2 = tqdm(total=10, leave=False, bar_format='{l_bar}{bar}| {n_fmt}/{total_fmt}')\n",
    "    # print('2nd iteration', end='\\r')\n",
    "    for j in range(10):\n",
    "        time.sleep(0.1)\n",
    "        pbar2.update()\n",
    "    # pbar2.close()\n",
    "# pbar1.close()\n"
   ]
  },
  {
   "cell_type": "code",
   "execution_count": 1,
   "metadata": {},
   "outputs": [
    {
     "data": {
      "application/vnd.jupyter.widget-view+json": {
       "model_id": "183738d6ae144b86a64eca725167f8a3",
       "version_major": 2,
       "version_minor": 0
      },
      "text/plain": [
       "  0%|          | 0/100 [00:00<?, ?it/s]"
      ]
     },
     "metadata": {},
     "output_type": "display_data"
    }
   ],
   "source": [
    "from tqdm.notebook import tqdm\n",
    "import time\n",
    "\n",
    "# Create a single progress bar\n",
    "pbar = tqdm(total=100)\n",
    "\n",
    "for i in range(10):\n",
    "    # for j in range(10):\n",
    "    time.sleep(i)\n",
    "    # Update the progress bar\n",
    "    pbar.update()\n",
    "\n",
    "# Close the progress bar\n",
    "pbar.close()\n",
    "\n",
    "# xxx s/it is an average time\n"
   ]
  }
 ],
 "metadata": {
  "kernelspec": {
   "display_name": "GradioPy38",
   "language": "python",
   "name": "python3"
  },
  "language_info": {
   "codemirror_mode": {
    "name": "ipython",
    "version": 3
   },
   "file_extension": ".py",
   "mimetype": "text/x-python",
   "name": "python",
   "nbconvert_exporter": "python",
   "pygments_lexer": "ipython3",
   "version": "3.8.17"
  }
 },
 "nbformat": 4,
 "nbformat_minor": 2
}
