{
 "cells": [
  {
   "cell_type": "markdown",
   "metadata": {},
   "source": [
    "# matplot 绘图笔记\n",
    "\n",
    "```python\n",
    "import numpy as np\n",
    "import matplotlib.pyplot as plt\n",
    "```"
   ]
  },
  {
   "cell_type": "markdown",
   "metadata": {},
   "source": [
    "## 直方图\n",
    "\n",
    "```python\n",
    "# 使用散点图可视化分布情况\n",
    "plt.scatter(n_values, values, c=max_values, cmap='jet', s=5)  # s参数用于控制散点的大小\n",
    "plt.colorbar(label='max_values')  # colorbar函数用于添加颜色条\n",
    "\n",
    "plt.xlabel('n')\n",
    "plt.ylabel('[n-min/max]')\n",
    "plt.ylim(0.45, 0.95)  # ylim函数用于控制y轴的范围\n",
    "plt.title('Distribution of [n-min/max]')  # title函数用于添加标题\n",
    "plt.show()\n",
    "```"
   ]
  },
  {
   "cell_type": "markdown",
   "metadata": {},
   "source": [
    "## 着色方式\n",
    "``` python\n",
    "plt.scatter(n_values, values, c=max_values, cmap='jet', s=5)  # s参数用于控制散点的大小\n",
    "plt.colorbar(label='max_values')  # colorbar函数用于添加颜色条\n",
    "```\n"
   ]
  },
  {
   "cell_type": "markdown",
   "metadata": {},
   "source": [
    "Matplotlib的颜色映射通常根据其功能分为几个类别，每个类别都有其特定的使用场景：\n",
    "\n",
    "- **Perceptually Uniform Sequential**：这些颜色映射在视觉上是均匀变化的，适用于表示有序数据，且数据的相对大小很重要。例如，`'viridis', 'plasma', 'inferno', 'magma', 'cividis'`。\n",
    "\n",
    "- **Sequential**：这些颜色映射用于表示有序的数据，通常从浅色渐变到深色。例如，`‘Greys’, ‘Purples’, ‘Blues’, ‘Greens’, ‘Oranges’, ‘Reds’, ‘YlOrBr’, ‘YlOrRd’, ‘OrRd’, ‘PuRd’, ‘RdPu’, ‘BuPu’, ‘GnBu’, ‘PuBu’, ‘YlGnBu’, ‘PuBuGn’, ‘BuGn’, ‘YlGn’`等。\n",
    "\n",
    "- **Sequential (2)**：这些颜色映射也用于表示有序的数据，但它们通常包含更多的颜色变化。例如，`'binary', 'gist_yarg', 'gist_gray', 'gray', 'bone', 'pink','spring', 'summer', 'autumn', 'winter', 'cool','Wistia','hot','afmhot','gist_heat','copper'`。\n",
    "\n",
    "- **Diverging**：这些颜色映射用于表示数据中的正负差异，通常在中间值处有明显的颜色变化。例如，`'PiYG','PRGn','BrBG','PuOr','RdGy','RdBu','RdYlBu','RdYlGn','Spectral','coolwarm','bwr','seismic'`。\n",
    "\n",
    "- **Cyclic**：这些颜色映射用于表示周期性数据，例如方向或时间。例如，`'twilight','twilight_shifted','hsv'`。\n",
    "\n",
    "- **Qualitative**：这些颜色映射用于表示无序的类别数据，通常每种颜色都明显不同。例如，`'Pastel1','Pastel2','Paired','Accent','Dark2','Set1','Set2','Set3','tab10','tab20','tab20b','tab20c'`。\n",
    "\n",
    "- **Miscellaneous**：这些颜色映射包含各种各样的颜色和渐变，可以根据需要选择。例如，`‘flag’,‘prism’,‘ocean’,‘gist_earth’,‘terrain’,‘gist_stern’, ‘gnuplot’,‘gnuplot2’,‘CMRmap’, ‘cubehelix’, ‘brg’, ‘gist_rainbow’, ‘rainbow’, ‘jet’, ‘turbo’, ‘nipy_spectral’, ‘gist_ncar’`等。\n",
    "\n",
    "每个颜色映射都有一个反转版本，可以通过在名称后面添加`_r`来获取。例如，如果你想要一个从深到浅的颜色渐变，你可以使用`'Blues_r'`而不是`'Blues'`。希望这个信息对你有所帮助！"
   ]
  },
  {
   "cell_type": "code",
   "execution_count": null,
   "metadata": {},
   "outputs": [],
   "source": []
  }
 ],
 "metadata": {
  "language_info": {
   "name": "python"
  }
 },
 "nbformat": 4,
 "nbformat_minor": 2
}
